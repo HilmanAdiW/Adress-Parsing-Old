{
 "cells": [
  {
   "cell_type": "code",
   "execution_count": 1,
   "metadata": {},
   "outputs": [],
   "source": [
    "from pathlib import Path"
   ]
  },
  {
   "cell_type": "code",
   "execution_count": 2,
   "metadata": {},
   "outputs": [],
   "source": [
    "from flask import Flask,url_for,request,render_template,jsonify,send_file,url_for\n",
    "from flask_bootstrap import Bootstrap\n",
    "import json\n",
    "\n",
    "# NLP Pkgs\n",
    "import spacy\n",
    "from spacy import displacy\n",
    "nlp = spacy.load('en_core_web_sm')\n",
    "import time "
   ]
  },
  {
   "cell_type": "code",
   "execution_count": null,
   "metadata": {},
   "outputs": [],
   "source": []
  },
  {
   "cell_type": "code",
   "execution_count": 3,
   "metadata": {},
   "outputs": [],
   "source": [
    "output_dir=Path(\"C:/Users/Lenovo/2019 Big Data/Notebook/Belajar/Address Parsing Indonesia New/Model\")\n",
    "nlp = spacy.load(output_dir)"
   ]
  },
  {
   "cell_type": "code",
   "execution_count": 4,
   "metadata": {},
   "outputs": [],
   "source": [
    "# Initialize App\n",
    "app = Flask(__name__)\n",
    "Bootstrap(app)\n",
    "\n",
    "@app.route('/')\n",
    "def index():\n",
    "\treturn render_template('index.html')\n",
    "\n",
    "@app.route('/home')\n",
    "def home():\n",
    "\treturn render_template('index.html')\n",
    "\n",
    "\n",
    "@app.route('/demo')\n",
    "def demo():\n",
    "    return render_template('demo.html')\n"
   ]
  },
  {
   "cell_type": "code",
   "execution_count": 5,
   "metadata": {},
   "outputs": [],
   "source": [
    "\n",
    "@app.route('/analyze',methods=['GET','POST'])\n",
    "def analyze():\n",
    "\tstart = time.time()\n",
    "\t# Receives the input query from form\n",
    "\tif request.method == 'POST':\n",
    "\t\taddresstext = str('Your Address : \"')+str(request.form['addresstext'])+str('\"')\n",
    "\t\taddress = str(request.form['addresstext'])\n",
    "\t\trawtext =request.form['addresstext']\n",
    "\t\t# Analysis\n",
    "\t\tdocx = nlp(rawtext)\n",
    "\t\t# Tokens\n",
    "\t\tcustom_tokens = [token.text for token in docx ]\n",
    "\t\t# NER\n",
    "\t\tcustom_namedentities = [(entity.text,entity.label_)for entity in docx.ents]\n",
    "\t\tresult_json = custom_namedentities    \n",
    "\t\tfinal_time = str('Time Elapsed: ')+ str(time.time()-start) +str(' seconds')\n",
    "\t\t#options = {\"compact\": True, \"bg\": \"#09a3d5\",\"color\": \"white\", \"font\": \"Source Sans Pro\"}\n",
    "\t\t#if docx.ents:\n",
    "\t\t\t#entities = displacy.render(docx, style='ent',page=True,jupyter=False,options=options)\n",
    "\t\t\t#entities = displacy.serve(docx, style='ent', options=options,page=True)\n",
    "\n",
    "        \n",
    "\treturn render_template('demo.html',ctext=addresstext,custom_namedentities=custom_namedentities,final_time=final_time,\n",
    "                          result_json=result_json)\n",
    "\n",
    "\n",
    "\n",
    "@app.route('/about')\n",
    "def about():\n",
    "\treturn render_template('about.html')\n",
    "\n",
    "@app.route('/contact')\n",
    "def contact():\n",
    "\treturn render_template('contact.html')"
   ]
  },
  {
   "cell_type": "code",
   "execution_count": null,
   "metadata": {},
   "outputs": [],
   "source": []
  },
  {
   "cell_type": "code",
   "execution_count": null,
   "metadata": {},
   "outputs": [
    {
     "name": "stdout",
     "output_type": "stream",
     "text": [
      " * Serving Flask app \"__main__\" (lazy loading)\n",
      " * Environment: production\n",
      "   WARNING: This is a development server. Do not use it in a production deployment.\n",
      "   Use a production WSGI server instead.\n",
      " * Debug mode: on\n"
     ]
    },
    {
     "name": "stderr",
     "output_type": "stream",
     "text": [
      " * Running on http://127.0.0.1:5000/ (Press CTRL+C to quit)\n",
      "127.0.0.1 - - [29/Jun/2020 10:40:02] \"\u001b[37mGET / HTTP/1.1\u001b[0m\" 200 -\n",
      "127.0.0.1 - - [29/Jun/2020 10:40:02] \"\u001b[33mGET /static/img/core-img/curve-pos1.png HTTP/1.1\u001b[0m\" 404 -\n",
      "127.0.0.1 - - [29/Jun/2020 10:40:05] \"\u001b[37mGET /demo HTTP/1.1\u001b[0m\" 200 -\n",
      "127.0.0.1 - - [29/Jun/2020 10:40:10] \"\u001b[37mPOST /analyze HTTP/1.1\u001b[0m\" 200 -\n",
      "127.0.0.1 - - [29/Jun/2020 10:40:19] \"\u001b[37mGET / HTTP/1.1\u001b[0m\" 200 -\n",
      "127.0.0.1 - - [29/Jun/2020 10:40:19] \"\u001b[33mGET /static/img/core-img/curve-pos1.png HTTP/1.1\u001b[0m\" 404 -\n",
      "127.0.0.1 - - [29/Jun/2020 10:40:19] \"\u001b[33mGET /static/img/core-img/curve-pos1.png HTTP/1.1\u001b[0m\" 404 -\n",
      "127.0.0.1 - - [29/Jun/2020 10:40:28] \"\u001b[37mGET /demo HTTP/1.1\u001b[0m\" 200 -\n",
      "127.0.0.1 - - [29/Jun/2020 10:40:34] \"\u001b[37mPOST /analyze HTTP/1.1\u001b[0m\" 200 -\n"
     ]
    }
   ],
   "source": [
    "if __name__ == '__main__':\n",
    "    app.run(debug=True,use_reloader=False)\n",
    "    #app.run(host='0.0.0.0',port=8080)"
   ]
  },
  {
   "cell_type": "code",
   "execution_count": null,
   "metadata": {},
   "outputs": [],
   "source": []
  },
  {
   "cell_type": "code",
   "execution_count": null,
   "metadata": {},
   "outputs": [],
   "source": []
  },
  {
   "cell_type": "code",
   "execution_count": null,
   "metadata": {},
   "outputs": [],
   "source": []
  },
  {
   "cell_type": "code",
   "execution_count": null,
   "metadata": {},
   "outputs": [],
   "source": []
  },
  {
   "cell_type": "code",
   "execution_count": null,
   "metadata": {},
   "outputs": [],
   "source": []
  }
 ],
 "metadata": {
  "kernelspec": {
   "display_name": "Python 3",
   "language": "python",
   "name": "python3"
  },
  "language_info": {
   "codemirror_mode": {
    "name": "ipython",
    "version": 3
   },
   "file_extension": ".py",
   "mimetype": "text/x-python",
   "name": "python",
   "nbconvert_exporter": "python",
   "pygments_lexer": "ipython3",
   "version": "3.7.4"
  }
 },
 "nbformat": 4,
 "nbformat_minor": 2
}
